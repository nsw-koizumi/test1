{
 "cells": [
  {
   "cell_type": "markdown",
   "metadata": {
    "application/vnd.databricks.v1+cell": {
     "cellMetadata": {
      "byteLimit": 2048000,
      "rowLimit": 10000
     },
     "inputWidgets": {},
     "nuid": "e10434d2-1e15-405a-8efd-d225fd5c8bbe",
     "showTitle": false,
     "tableResultSettingsMap": {},
     "title": ""
    }
   },
   "source": [
    "## ※商品マスタのCSVを取込み、Silverとして扱う"
   ]
  },
  {
   "cell_type": "code",
   "execution_count": 0,
   "metadata": {
    "application/vnd.databricks.v1+cell": {
     "cellMetadata": {
      "byteLimit": 2048000,
      "rowLimit": 10000
     },
     "inputWidgets": {},
     "nuid": "f2ff601e-4ba7-4f66-ac3b-37aa069cd205",
     "showTitle": false,
     "tableResultSettingsMap": {},
     "title": ""
    }
   },
   "outputs": [],
   "source": [
    "%run /Workspace/Users/takahiro.koizumi@nsw.co.jp/EX_error_log_export"
   ]
  },
  {
   "cell_type": "code",
   "execution_count": 0,
   "metadata": {
    "application/vnd.databricks.v1+cell": {
     "cellMetadata": {
      "byteLimit": 2048000,
      "rowLimit": 10000
     },
     "inputWidgets": {},
     "nuid": "8986768d-ea6c-46c2-8f41-24acd6191f95",
     "showTitle": false,
     "tableResultSettingsMap": {},
     "title": ""
    }
   },
   "outputs": [],
   "source": [
    "from pyspark.sql import SparkSession\n",
    "from pyspark.sql.functions import current_timestamp\n",
    "from pyspark.sql.functions import col\n",
    "from pyspark.sql.functions import to_timestamp\n",
    "from pyspark.sql.functions import lit\n",
    "from datetime import datetime, timedelta"
   ]
  },
  {
   "cell_type": "code",
   "execution_count": 0,
   "metadata": {
    "application/vnd.databricks.v1+cell": {
     "cellMetadata": {
      "byteLimit": 2048000,
      "rowLimit": 10000
     },
     "inputWidgets": {},
     "nuid": "e7b19620-e084-442a-af5d-e240f34bbfa6",
     "showTitle": false,
     "tableResultSettingsMap": {},
     "title": ""
    }
   },
   "outputs": [],
   "source": [
    "# Spark session作成\n",
    "def spark_session(app_name):\n",
    "    print(\"Spark session 作成中…\")\n",
    "    try:\n",
    "        spark = SparkSession.builder.appName(app_name).getOrCreate()\n",
    "        print(\"Spark session 作成完了\")\n",
    "        return spark\n",
    "\n",
    "    # エラー処理\n",
    "    except Exception as e:\n",
    "        # ログを出力する\n",
    "        logger = setup_logging(logtype=\"error\")\n",
    "        logger.error(f\"Spark session 作成中にエラーが発生しました: {e}\")\n",
    "        return False"
   ]
  },
  {
   "cell_type": "code",
   "execution_count": 0,
   "metadata": {
    "application/vnd.databricks.v1+cell": {
     "cellMetadata": {
      "byteLimit": 2048000,
      "rowLimit": 10000
     },
     "inputWidgets": {},
     "nuid": "80096071-e835-47da-b38e-4ea446efad6b",
     "showTitle": false,
     "tableResultSettingsMap": {},
     "title": ""
    }
   },
   "outputs": [],
   "source": [
    "# csvのDataFrame化\n",
    "def csv_to_dataframe(spark, csv_file, temp_view_name):\n",
    "    print(\"CSVファイルをDataFrameに変換中…\")\n",
    "    try:\n",
    "        # 各CSVファイルを読み込み、DataFrameを作成\n",
    "        csv_df = spark.read.csv(csv_file, header=True, inferSchema=True,nullValue=\"NULL\")\n",
    "        \n",
    "        # 一時ビューを作成\n",
    "        temp_view = csv_df.createOrReplaceTempView(temp_view_name)\n",
    "        \n",
    "        # レコード数（行数）を取得\n",
    "        row_count_csv = csv_df.count()\n",
    "        print(f\"変換完了: {row_count_csv}件\")\n",
    "        return True\n",
    "\n",
    "    # エラー処理\n",
    "    except Exception as e:\n",
    "        logger = setup_logging(logtype=\"error\")\n",
    "        logger.error(f\"Error: {e}\")\n",
    "        print(f\"csvファイルの変換に失敗しました。エラー: {e}\")\n",
    "        return False"
   ]
  },
  {
   "cell_type": "code",
   "execution_count": 0,
   "metadata": {
    "application/vnd.databricks.v1+cell": {
     "cellMetadata": {
      "byteLimit": 2048000,
      "rowLimit": 10000
     },
     "inputWidgets": {},
     "nuid": "92012958-e33f-4c04-80a3-88634fe71c27",
     "showTitle": false,
     "tableResultSettingsMap": {},
     "title": ""
    }
   },
   "outputs": [],
   "source": [
    "# Silverテーブルを作成\n",
    "def create_table(Silver_table_name):\n",
    "    print(f\"{Silver_table_name}の空テーブルを作成中…\")\n",
    "    try:\n",
    "        spark.sql(\n",
    "            f\"\"\"\n",
    "        CREATE TABLE { Silver_table_name } (\n",
    "            ID varchar(30) NOT NULL,\n",
    "            COMPANY_CODE varchar(2) NOT NULL,\n",
    "            MODEL_NO varchar(40),\n",
    "            PRODUCT_CODE varchar(24) NOT NULL,\n",
    "            PRODUCT_NAME varchar(20),\n",
    "            SERIES_NAME varchar(100),\n",
    "            JAN_CODE varchar(13),\n",
    "            COLOR_CODE varchar(5),\n",
    "            LARGE_CLASS_CODE varchar(5),\n",
    "            LARGE_CLASS_NAME varchar(20),\n",
    "            MIDDLE_CLASS_CODE varchar(60),\n",
    "            MIDDLE_CLASS_NAME varchar(60),\n",
    "            SMALL_CLASS_CODE varchar(10),\n",
    "            SMALL_CLASS_NAME varchar(20),\n",
    "            LENS_SAHPE_CODE varchar(100),\n",
    "            LENS_SAHPE_NAME varchar(100),\n",
    "            PO_CATEGORY_CODE varchar(2),\n",
    "            PO_CATEGORY_NAME varchar(50),\n",
    "            RELEASE_DATE timestamp,\n",
    "            LAST_RECEIPT_DATE timestamp,\n",
    "            FRAME_HEIGHT decimal(8, 2),\n",
    "            LENS_WIDTH decimal(8, 2),\n",
    "            TARGET_CODE varchar(5),\n",
    "            TARGET_NAME varchar(12),\n",
    "            REPEAT_COUNT decimal(8, 2),\n",
    "            DISCONTINUED_FLAG varchar(5),\n",
    "            FIRST_SELLING_PRICE decimal(8, 2),\n",
    "            SELLING_PRICE_PROPER decimal(8, 2),\n",
    "            SELLING_PRICE_OUTLET decimal(8, 2),\n",
    "            ACCOUT_PATTERN_CODE varchar(5),\n",
    "            ACCOUT_PATTERN_NAME varchar(60),\n",
    "            ACCOUNT_TITLE_CODE varchar(5),\n",
    "            ACCOUNT_TITLE_NAME varchar(60),\n",
    "            PRODUCT_CLASS varchar(5),\n",
    "            SUBSIDIARY_ACCOUNT_CODE varchar(5),\n",
    "            SUBSIDIARY_ACCOUNT_NAME varchar(60),\n",
    "            MANUFUCTURER_CODE varchar(10),\n",
    "            FACTORY_CODE varchar(10),\n",
    "            BUDGET_ACTUAL_CODE varchar(5),\n",
    "            BUDGET_ACTUAL_NAME varchar(50),\n",
    "            SECTION_CODE varchar(5),\n",
    "            SECTION_NAME varchar(50),\n",
    "            COATING_CODE varchar(5),\n",
    "            COATING_NAME varchar(50),\n",
    "            FUNCTION_CODE varchar(5),\n",
    "            FUNCTION_NAME varchar(50),\n",
    "            DESIGN_CODE varchar(5),\n",
    "            DESIGN_NAME varchar(50),\n",
    "            HEIGHT_MM varchar(50),\n",
    "            WIDTH_MM varchar(50),\n",
    "            SALETYPE varchar(50),\n",
    "            PRIMARY KEY (ID, COMPANY_CODE, PRODUCT_CODE)\n",
    "        ) USING DELTA\n",
    "        \"\"\"\n",
    "        )\n",
    "        print(f\"作成完了\")\n",
    "        return True\n",
    "\n",
    "    # エラー処理\n",
    "    except Exception as e:\n",
    "        logger = setup_logging(logtype=\"error\")\n",
    "        logger.error(f\"Error: {e}\")\n",
    "        print(f\"csvファイルの変換に失敗しました。エラー: {e}\")\n",
    "        return False"
   ]
  },
  {
   "cell_type": "code",
   "execution_count": 0,
   "metadata": {
    "application/vnd.databricks.v1+cell": {
     "cellMetadata": {
      "byteLimit": 2048000,
      "rowLimit": 10000
     },
     "inputWidgets": {},
     "nuid": "8d8846db-c30a-4ccc-b56c-237a45a31744",
     "showTitle": false,
     "tableResultSettingsMap": {},
     "title": ""
    }
   },
   "outputs": [],
   "source": [
    "# 一時ビューから新しいテーブルにデータを挿入\n",
    "def insert_data(silver_table_name):\n",
    "    print(f\"{silver_table_name}にデータを挿入中…\")\n",
    "    try:\n",
    "        spark.sql(\n",
    "            f\"\"\"\n",
    "        INSERT INTO {silver_table_name}\n",
    "            SELECT\n",
    "                ID,\n",
    "                COMPANY_CODE,\n",
    "                MODEL_NO,\n",
    "                PRODUCT_CODE,\n",
    "                PRODUCT_NAME,\n",
    "                SERIES_NAME,\n",
    "                JAN_CODE,\n",
    "                COLOR_CODE,\n",
    "                LARGE_CLASS_CODE,\n",
    "                LARGE_CLASS_NAME,\n",
    "                MIDDLE_CLASS_CODE,\n",
    "                MIDDLE_CLASS_NAME,\n",
    "                SMALL_CLASS_CODE,\n",
    "                SMALL_CLASS_NAME,\n",
    "                LENS_SAHPE_CODE,\n",
    "                LENS_SAHPE_NAME,\n",
    "                PO_CATEGORY_CODE,\n",
    "                PO_CATEGORY_NAME,\n",
    "                RELEASE_DATE,\n",
    "                LAST_RECEIPT_DATE,\n",
    "                FRAME_HEIGHT,\n",
    "                LENS_WIDTH,\n",
    "                TARGET_CODE,\n",
    "                TARGET_NAME,\n",
    "                REPEAT_COUNT,\n",
    "                DISCONTINUED_FLAG,\n",
    "                FIRST_SELLING_PRICE,\n",
    "                SELLING_PRICE_PROPER,\n",
    "                SELLING_PRICE_OUTLET,\n",
    "                ACCOUT_PATTERN_CODE,\n",
    "                ACCOUT_PATTERN_NAME,\n",
    "                ACCOUNT_TITLE_CODE,\n",
    "                ACCOUNT_TITLE_NAME,\n",
    "                PRODUCT_CLASS,\n",
    "                SUBSIDIARY_ACCOUNT_CODE,\n",
    "                SUBSIDIARY_ACCOUNT_NAME,\n",
    "                MANUFUCTURER_CODE,\n",
    "                FACTORY_CODE,\n",
    "                BUDGET_ACTUAL_CODE,\n",
    "                BUDGET_ACTUAL_NAME,\n",
    "                SECTION_CODE,\n",
    "                SECTION_NAME,\n",
    "                COATING_CODE,\n",
    "                COATING_NAME,\n",
    "                FUNCTION_CODE,\n",
    "                FUNCTION_NAME,\n",
    "                DESIGN_CODE,\n",
    "                DESIGN_NAME,\n",
    "                HEIGHT_MM,\n",
    "                WIDTH_MM,\n",
    "                SALETYPE\n",
    "            FROM {temp_view_name}\n",
    "        \"\"\"\n",
    "        )\n",
    "        row_count_insert = spark.read.table(silver_table_name).count()\n",
    "        print(f\"挿入完了 　総データ件数:{row_count_insert}件\")\n",
    "        return True\n",
    "    \n",
    "    # エラー処理\n",
    "    except Exception as e:\n",
    "        logger = setup_logging(logtype=\"error\")\n",
    "        logger.error(f\"Error: {e}\")\n",
    "        print(f\"Silverテーブル作成に失敗しました。エラー: {e}\")\n",
    "        return False"
   ]
  },
  {
   "cell_type": "code",
   "execution_count": 0,
   "metadata": {
    "application/vnd.databricks.v1+cell": {
     "cellMetadata": {
      "byteLimit": 2048000,
      "rowLimit": 10000
     },
     "inputWidgets": {},
     "nuid": "5f519fc1-7d47-4ca6-825a-ec2b6a21ebf4",
     "showTitle": false,
     "tableResultSettingsMap": {},
     "title": ""
    }
   },
   "outputs": [],
   "source": [
    "# 作成したSilverテーブルの全件削除\n",
    "def delete_all_data(silver_table_name):\n",
    "    print(f\"{silver_table_name}の全データを削除中…\")\n",
    "    try:\n",
    "        spark.sql(\n",
    "            f\"\"\"\n",
    "        TRUNCATE TABLE {silver_table_name}\n",
    "        \"\"\"\n",
    "        )\n",
    "        print(f\"削除完了\")\n",
    "        return True\n",
    "    except Exception as e:\n",
    "        logger = setup_logging(logtype=\"error\")\n",
    "        logger.error(f\"Error: {e}\")\n",
    "        print(f\"削除に失敗しました。エラー: {e}\")\n",
    "        return False"
   ]
  },
  {
   "cell_type": "code",
   "execution_count": 0,
   "metadata": {
    "application/vnd.databricks.v1+cell": {
     "cellMetadata": {
      "byteLimit": 2048000,
      "rowLimit": 10000
     },
     "inputWidgets": {},
     "nuid": "74e64a72-7f40-4853-8b9b-9074331d4f26",
     "showTitle": false,
     "tableResultSettingsMap": {},
     "title": ""
    }
   },
   "outputs": [],
   "source": [
    "# 　実行関数\n",
    "def silver_layer(csv_file, temp_view_name, silver_table_name):\n",
    "    # Silverテーブルが存在しない場合\n",
    "    if not spark.catalog.tableExists(silver_table_name):\n",
    "        print(f\"{silver_table_name}が存在しないため新規作成します。\")\n",
    "        # sppark session起動\n",
    "        spark_session(app_name)\n",
    "\n",
    "        # csvファイルをDataFrameに変換\n",
    "        csv_to_dataframe(spark, csv_file, temp_view_name)\n",
    "        \n",
    "        # Silverテーブルを作成\n",
    "        create_table(silver_table_name)\n",
    "        \n",
    "        # Silverテーブルにデータを挿入\n",
    "        insert_data(silver_table_name)\n",
    "        return True\n",
    "\n",
    "    # Silverテーブルが存在する場合\n",
    "    else:\n",
    "        print(f\"{silver_table_name}が存在するので全件入替を実施します。\")\n",
    "        # sppark session起動\n",
    "        spark_session(app_name)\n",
    "        \n",
    "        # 既存レコードの全削除\n",
    "        delete_all_data(silver_table_name)\n",
    "\n",
    "        # csvファイルをDataFrameに変換\n",
    "        csv_to_dataframe(spark, csv_file, temp_view_name)\n",
    "\n",
    "        # Silverテーブルにデータを挿入\n",
    "        insert_data(silver_table_name)\n",
    "        return True\n",
    "    "
   ]
  },
  {
   "cell_type": "code",
   "execution_count": 0,
   "metadata": {
    "application/vnd.databricks.v1+cell": {
     "cellMetadata": {
      "byteLimit": 2048000,
      "rowLimit": 10000
     },
     "inputWidgets": {},
     "nuid": "4ad1bf15-17d5-40bb-819e-ca2d443f8573",
     "showTitle": false,
     "tableResultSettingsMap": {},
     "title": ""
    }
   },
   "outputs": [],
   "source": [
    "# 昨日日付を取得する\n",
    "def generate_csv_path_yesterday(base_path: str, prefix: str) -> str:\n",
    "    yesterday = (datetime.today() - timedelta(days=1)).strftime(\"%Y%m%d\")\n",
    "    return f\"{base_path}/{prefix}_{yesterday}.csv\""
   ]
  },
  {
   "cell_type": "code",
   "execution_count": 0,
   "metadata": {
    "application/vnd.databricks.v1+cell": {
     "cellMetadata": {
      "byteLimit": 2048000,
      "rowLimit": 10000
     },
     "inputWidgets": {},
     "nuid": "eb4e8385-4f74-4dc3-a797-2bd772840cc8",
     "showTitle": false,
     "tableResultSettingsMap": {},
     "title": ""
    }
   },
   "outputs": [],
   "source": [
    "# app_name を指定してください。\n",
    "app_name = \"Silver_layer\"\n",
    "# ディレクトリパス\n",
    "base_path =\"/FileStore/tables\"\n",
    "# テーブル種類（マスタ名）\n",
    "prefix = \"product\"\n",
    "# 完成したCSVファイルのパス（昨日日付）\n",
    "csv_file = [generate_csv_path_yesterday(base_path, prefix)]\n",
    "\n",
    "# 一時ビュー名を指定してください。\n",
    "temp_view_name = \"temp_product\"\n",
    "# Silverテーブル名を入力してください。\n",
    "silver_table_name = \"prd_im_dlh.silver.dim_product\"\n",
    "\n",
    "# 実行\n",
    "silver_layer(csv_file, temp_view_name, silver_table_name)"
   ]
  }
 ],
 "metadata": {
  "application/vnd.databricks.v1+notebook": {
   "computePreferences": null,
   "dashboards": [],
   "environmentMetadata": {
    "base_environment": "",
    "environment_version": "2"
   },
   "inputWidgetPreferences": null,
   "language": "python",
   "notebookMetadata": {
    "pythonIndentUnit": 4
   },
   "notebookName": "dim_product",
   "widgets": {}
  },
  "language_info": {
   "name": "python"
  }
 },
 "nbformat": 4,
 "nbformat_minor": 0
}
